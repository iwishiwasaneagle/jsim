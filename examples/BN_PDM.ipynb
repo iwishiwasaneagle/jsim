{
 "cells": [
  {
   "cell_type": "markdown",
   "metadata": {
    "collapsed": true,
    "pycharm": {
     "name": "#%% md\n"
    }
   },
   "source": [
    "# Bayesian Network Probability Density Map Generation\n",
    "\n",
    "Generate the PDM for a SAR scenario using the technique outlined by Lin and Goodrich[1] using Bayesian Networks\n",
    "\n",
    "[1]: L. Lin and M. A. Goodrich, ‘A Bayesian approach to modeling lost person behaviors based on terrain features in Wilderness Search and Rescue’, Comput Math Organ Theory, vol. 16, no. 3, pp. 300–323, Jul. 2010, doi: [10.1007/s10588-010-9066-2](https://doi.org/10.1007/s10588-010-9066-2)."
   ]
  },
  {
   "cell_type": "code",
   "execution_count": null,
   "metadata": {
    "pycharm": {
     "name": "#%%\n"
    }
   },
   "outputs": [],
   "source": [
    "import sys, os\n",
    "\n",
    "sys.path.insert(0, os.path.join(os.getcwd(), \"../src\")) # run f"
   ]
  },
  {
   "cell_type": "code",
   "execution_count": null,
   "metadata": {
    "pycharm": {
     "name": "#%%\n"
    }
   },
   "outputs": [],
   "source": [
    "import numpy as np\n",
    "from scipy import signal as sps\n",
    "import matplotlib.pyplot as plt\n",
    "import matplotlib.patches as patches\n",
    "import matplotlib as mpl\n",
    "\n",
    "from loguru import logger\n",
    "from typing import List, Tuple\n",
    "from copy import copy\n",
    "import pydantic\n",
    "import enum"
   ]
  },
  {
   "cell_type": "code",
   "execution_count": null,
   "metadata": {
    "pycharm": {
     "name": "#%%\n"
    }
   },
   "outputs": [],
   "source": [
    "# Install from package at https://github.com/iwishiwasaneagle/jsim/releases/latest or add use it from within the project\n",
    "from jsim.Environment import Environment\n",
    "from jsim.Simulation import Simulation\n",
    "from jsim.Meta import Action, State"
   ]
  },
  {
   "cell_type": "markdown",
   "metadata": {
    "collapsed": false,
    "pycharm": {
     "name": "#%% md\n"
    }
   },
   "source": [
    "## Hexagonal Environment\n",
    "\n",
    "Use the offset coord system https://www.redblobgames.com/grids/hexagons/#coordinates-offset, the odd-r variant in particular"
   ]
  },
  {
   "cell_type": "code",
   "execution_count": null,
   "metadata": {
    "pycharm": {
     "name": "#%%\n"
    }
   },
   "outputs": [],
   "source": [
    "class OffsetCoord(pydantic.BaseModel):\n",
    "    col: int\n",
    "    row: int\n",
    "\n",
    "class AxialCoord(pydantic.BaseModel):\n",
    "    q: int\n",
    "    r: int\n",
    "\n",
    "class PixelCoord(pydantic.BaseModel):\n",
    "    x: float\n",
    "    y: float\n",
    "\n",
    "class Direction(enum.IntEnum):\n",
    "    br = 0\n",
    "    tr = 1\n",
    "    t = 2\n",
    "    tl = 3\n",
    "    bl = 4\n",
    "    b = 5"
   ]
  },
  {
   "cell_type": "code",
   "execution_count": null,
   "metadata": {
    "pycharm": {
     "name": "#%%\n"
    }
   },
   "outputs": [],
   "source": [
    "\n",
    "class HexOddQPDM(Environment):\n",
    "    def __init__(self, m: int = 20, psim: Simulation = None) -> None:\n",
    "        super().__init__(psim=psim)\n",
    "\n",
    "        self._shape = (m,m)\n",
    "\n",
    "        self.pdm = np.zeros(self._shape)\n",
    "\n",
    "    def as_mpl_polygons(self,\n",
    "                        cmap: mpl.colors.LinearSegmentedColormap = mpl.cm.get_cmap('Spectral'),\n",
    "                        size: float = np.sqrt(1/3)\n",
    "                        ) -> List[patches.RegularPolygon]:\n",
    "        norm = mpl.colors.Normalize(vmin=np.min(self.pdm), vmax=np.max(self.pdm))\n",
    "\n",
    "        offsets = []\n",
    "        colors = []\n",
    "        i,j = np.meshgrid(np.arange(self.shape[0]), np.arange(self.shape[1]))\n",
    "        for col,row in zip(i.flatten(), j.flatten()):\n",
    "            z = self.pdm[row,col]\n",
    "            colors.append(cmap(norm(z)))\n",
    "            offsets.append(OffsetCoord(col=col,row=row))\n",
    "        return HexOddQPDM.offsets_to_mpl_polygons(offsets, colors, size)\n",
    "\n",
    "    @staticmethod\n",
    "    def offsets_to_mpl_polygons(offsets: List[OffsetCoord],\n",
    "                                colors: List[Tuple[float]] = None,\n",
    "                                size: float = np.sqrt(1/3)\n",
    "                        ) -> List[patches.RegularPolygon]:\n",
    "        arr = []\n",
    "        if colors is None:\n",
    "            colors = [None for _ in offsets]\n",
    "\n",
    "        for o,c in zip(offsets,colors):\n",
    "            arr.append(HexOddQPDM.offset_to_mpl_polygon(o,c, size))\n",
    "        return arr\n",
    "\n",
    "    @staticmethod\n",
    "    def offset_to_mpl_polygon(offset: OffsetCoord, color: Tuple[float, float, float, float] = None, size: float = np.sqrt(1/3)) -> patches.RegularPolygon:\n",
    "        pixel = HexOddQPDM.offset_to_pixel(offset, size)\n",
    "        return patches.RegularPolygon((pixel.x, pixel.y), numVertices=6, radius=size, orientation=np.pi/6, fc=color, ec='k')\n",
    "\n",
    "    @property\n",
    "    def shape(self):\n",
    "        return self._shape\n",
    "\n",
    "    @staticmethod\n",
    "    def offset_to_axial(offset: OffsetCoord) -> AxialCoord:\n",
    "        q = offset.col\n",
    "        r = offset.row - (offset.col - (offset.col&1)) / 2 # use bitewise and to detect even, as it also works with negative numbers\n",
    "        return AxialCoord(q=q,r=r)\n",
    "\n",
    "    @staticmethod\n",
    "    def axial_to_offset(axial: AxialCoord) -> OffsetCoord:\n",
    "        col = axial.q\n",
    "        row = axial.r + (axial.q - (axial.q&1))/2\n",
    "        return OffsetCoord(col=col, row=row)\n",
    "\n",
    "    @staticmethod\n",
    "    def axial_to_pixel(axial: AxialCoord, size: float) -> PixelCoord:\n",
    "        x = size * ((3./2) * axial.q)\n",
    "        y = size * (np.sqrt(3)/2 * axial.q + np.sqrt(3)* axial.r)\n",
    "        return PixelCoord(x=x,y=y)\n",
    "\n",
    "    @staticmethod\n",
    "    def offset_to_pixel(offset: OffsetCoord, size: float = np.sqrt(1/3)) -> PixelCoord:\n",
    "        # https://www.redblobgames.com/grids/hexagons/#hex-to-pixel-offset\n",
    "        axial = HexOddQPDM.offset_to_axial(offset)\n",
    "        pixel = HexOddQPDM.axial_to_pixel(axial, size)\n",
    "        return pixel\n",
    "\n",
    "    @staticmethod\n",
    "    def neighbor_coord(offset: OffsetCoord, direction: Direction) -> OffsetCoord:\n",
    "        direction_differences = [\n",
    "            # for explanation: https://www.redblobgames.com/grids/hexagons/#neighbors-offset\n",
    "            # even cols\n",
    "            [[+1,  0], [+1, -1], [ 0, -1],\n",
    "             [-1, -1], [-1,  0], [ 0, +1]],\n",
    "            # odd cols\n",
    "            [[+1, +1], [+1,  0], [ 0, -1],\n",
    "             [-1,  0], [-1, +1], [ 0, +1]],\n",
    "            ]\n",
    "        parity = offset.col & 1\n",
    "        diff = direction_differences[parity][direction]\n",
    "        return OffsetCoord(col=offset.col + diff[0], row=offset.row + diff[1])\n",
    "\n",
    "    @staticmethod\n",
    "    def neighbors_coord(offset: OffsetCoord) -> List[OffsetCoord]:\n",
    "        return [HexOddQPDM.neighbor_coord(offset, d) for d in Direction]\n",
    "\n",
    "    @staticmethod\n",
    "    def distance_between_a_b( a: OffsetCoord, b: OffsetCoord) -> float:\n",
    "        # https://www.redblobgames.com/grids/hexagons/#distances-offset\n",
    "        def axial_distance_between_a_b(c: AxialCoord, d: AxialCoord) -> float:\n",
    "            return (abs(c.q - d.q) + abs(c.q + c.r - d.q - d.r) + abs(c.r - d.r)) / 2\n",
    "        ac = HexOddQPDM.offset_to_axial(a)\n",
    "        bd = HexOddQPDM.offset_to_axial(b)\n",
    "        return  axial_distance_between_a_b(ac, bd)\n",
    "\n",
    "    def reset(self) -> State:\n",
    "        pass\n",
    "\n",
    "    def step(self, pa: Action) -> Tuple[State, float]:\n",
    "        pass\n",
    "\n",
    "def test_neighbor_coord():\n",
    "    # even col, any row\n",
    "    directions = [d for d in Direction]\n",
    "    expected_neighbors = [(1,0),(1,-1),(0,-1),(-1,-1),(-1,0),(0,1)]\n",
    "    expected_neighbors = [OffsetCoord(col=f[0], row=f[1]) for f in expected_neighbors]\n",
    "\n",
    "    for d, e in zip(directions, expected_neighbors):\n",
    "        assert HexOddQPDM.neighbor_coord(\n",
    "                        OffsetCoord(col=0,row=0), d\n",
    "                        ) == e\n",
    "\n",
    "    # odd col, any row\n",
    "    expected_neighbors = [(2,1),(2,0),(1,-1),(0,0),(0,1),(1,1)]\n",
    "    expected_neighbors = [OffsetCoord(col=f[0], row=f[1]) for f in expected_neighbors]\n",
    "\n",
    "    for d, e in zip(directions, expected_neighbors):\n",
    "        assert HexOddQPDM.neighbor_coord(\n",
    "                        OffsetCoord(col=1,row=0), d\n",
    "                    ) == e\n",
    "test_neighbor_coord()"
   ]
  },
  {
   "cell_type": "code",
   "execution_count": null,
   "metadata": {
    "pycharm": {
     "name": "#%%\n"
    }
   },
   "outputs": [],
   "source": [
    "pdm = HexOddQPDM(m=9)\n",
    "\n",
    "polygons = pdm.as_mpl_polygons()\n",
    "\n",
    "fig, ax = plt.subplots(1)\n",
    "ax.set_aspect('equal')\n",
    "\n",
    "for p in polygons:\n",
    "    ax.add_patch(p)\n",
    "\n",
    "pos = OffsetCoord(col=2,row=3)\n",
    "for p in HexOddQPDM.offsets_to_mpl_polygons(HexOddQPDM.neighbors_coord(pos)):\n",
    "    ax.add_patch(p)\n",
    "\n",
    "ax.add_patch(HexOddQPDM.offset_to_mpl_polygon(pos,(1.,1.,1.,1.)))\n",
    "plt.autoscale(enable=True)\n",
    "plt.show()"
   ]
  },
  {
   "cell_type": "code",
   "execution_count": null,
   "metadata": {
    "pycharm": {
     "name": "#%%\n"
    }
   },
   "outputs": [],
   "source": []
  }
 ],
 "metadata": {
  "kernelspec": {
   "display_name": "Python 3",
   "language": "python",
   "name": "python3"
  },
  "language_info": {
   "codemirror_mode": {
    "name": "ipython",
    "version": 2
   },
   "file_extension": ".py",
   "mimetype": "text/x-python",
   "name": "python",
   "nbconvert_exporter": "python",
   "pygments_lexer": "ipython2",
   "version": "2.7.6"
  }
 },
 "nbformat": 4,
 "nbformat_minor": 0
}
