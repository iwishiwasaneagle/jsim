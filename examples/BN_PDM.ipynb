{
 "cells": [
  {
   "cell_type": "markdown",
   "metadata": {
    "collapsed": true,
    "pycharm": {
     "name": "#%% md\n"
    }
   },
   "source": [
    "# Bayesian Network Probability Density Map Generation\n",
    "\n",
    "Generate the PDM for a SAR scenario using the technique outlined by Lin and Goodrich[1] using Bayesian Networks\n",
    "\n",
    "[1]: L. Lin and M. A. Goodrich, ‘A Bayesian approach to modeling lost person behaviors based on terrain features in Wilderness Search and Rescue’, Comput Math Organ Theory, vol. 16, no. 3, pp. 300–323, Jul. 2010, doi: [10.1007/s10588-010-9066-2](https://doi.org/10.1007/s10588-010-9066-2)."
   ]
  },
  {
   "cell_type": "code",
   "execution_count": null,
   "metadata": {
    "pycharm": {
     "name": "#%%\n"
    }
   },
   "outputs": [],
   "source": [
    "import sys, os\n",
    "\n",
    "sys.path.insert(0, os.path.join(os.getcwd(), \"../src\")) # run f"
   ]
  },
  {
   "cell_type": "code",
   "execution_count": null,
   "metadata": {
    "pycharm": {
     "name": "#%%\n"
    }
   },
   "outputs": [],
   "source": [
    "!pip install pomegranate"
   ]
  },
  {
   "cell_type": "code",
   "execution_count": null,
   "metadata": {
    "pycharm": {
     "name": "#%%\n"
    }
   },
   "outputs": [],
   "source": [
    "from pomegranate import DiscreteDistribution, Node, BayesianNetwork, ConditionalProbabilityTable\n",
    "\n",
    "import numpy as np\n",
    "import matplotlib.pyplot as plt"
   ]
  },
  {
   "cell_type": "code",
   "execution_count": null,
   "metadata": {
    "pycharm": {
     "name": "#%%\n"
    }
   },
   "outputs": [],
   "source": [
    "# Install from package at https://github.com/iwishiwasaneagle/jsim/releases/latest or add use it from within the project\n",
    "from jsim.Environment import Environment, HexEnvironment\n",
    "from jsim.Environment.HexEnvironment.HexCoords import OffsetCoord\n",
    "from jsim.Simulation import Simulation\n",
    "from jsim.Meta import Action, State"
   ]
  },
  {
   "cell_type": "code",
   "execution_count": null,
   "metadata": {
    "pycharm": {
     "name": "#%%\n"
    }
   },
   "outputs": [],
   "source": [
    "class BNHexEnvironment(HexEnvironment):\n",
    "    def reset(self) -> State:\n",
    "        pass\n",
    "\n",
    "    def step(self, pa: Action) -> tuple[State, float]:\n",
    "        pass"
   ]
  },
  {
   "cell_type": "code",
   "execution_count": null,
   "metadata": {
    "pycharm": {
     "name": "#%%\n"
    }
   },
   "outputs": [],
   "source": [
    "pdm = BNHexEnvironment(m=9)\n",
    "\n",
    "polygons = pdm.as_mpl_polygons()\n",
    "\n",
    "fig, ax = plt.subplots(1)\n",
    "ax.set_aspect('equal')\n",
    "\n",
    "for p in polygons:\n",
    "    ax.add_patch(p)\n",
    "\n",
    "pos = OffsetCoord(col=2,row=3)\n",
    "for p in HexEnvironment.offsets_to_mpl_polygons(HexEnvironment.neighbors_coord(pos)):\n",
    "    ax.add_patch(p)\n",
    "\n",
    "ax.add_patch(HexEnvironment.offset_to_mpl_polygon(pos,(1.,1.,1.,1.)))\n",
    "plt.autoscale(enable=True)\n",
    "plt.show()"
   ]
  },
  {
   "cell_type": "code",
   "execution_count": null,
   "metadata": {
    "pycharm": {
     "name": "#%%\n"
    }
   },
   "outputs": [],
   "source": [
    "vegetation = DiscreteDistribution({'00': 0.6, '01': 0.25, '02': 0.15, '10': 0.5, '11': 0.3, '12': 0.2, '20': 0.4, '21': 0.4, '22': 0.2})\n",
    "topography = DiscreteDistribution({'00': 0.6, '01': 0.25, '02': 0.15, '10': 0.5, '11': 0.3, '12': 0.2, '20': 0.4, '21': 0.4, '22': 0.2})\n",
    "slope = DiscreteDistribution({'0': 0.5, '1': 0.1, '2': 0.5})\n",
    "\n",
    "s1 = Node(vegetation, name=\"vegetation\")\n",
    "s2 = Node(topography, name=\"topography\")\n",
    "s3 = Node(slope, name=\"slope\")\n",
    "\n",
    "network = BayesianNetwork(\"PDM Agent\")\n",
    "network.add_states(s1, s2, s3)\n",
    "network.add_edge(s1, s2)\n",
    "network.add_edge(s2, s3)\n",
    "network.bake()"
   ]
  }
 ],
 "metadata": {
  "kernelspec": {
   "display_name": "Python 3",
   "language": "python",
   "name": "python3"
  },
  "language_info": {
   "codemirror_mode": {
    "name": "ipython",
    "version": 2
   },
   "file_extension": ".py",
   "mimetype": "text/x-python",
   "name": "python",
   "nbconvert_exporter": "python",
   "pygments_lexer": "ipython2",
   "version": "2.7.6"
  }
 },
 "nbformat": 4,
 "nbformat_minor": 0
}
