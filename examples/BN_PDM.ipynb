{
 "cells": [
  {
   "cell_type": "markdown",
   "metadata": {
    "collapsed": true,
    "pycharm": {
     "name": "#%% md\n"
    }
   },
   "source": [
    "# Bayesian Network Probability Density Map Generation\n",
    "\n",
    "Generate the PDM for a SAR scenario using the technique outlined by Lin and Goodrich[1] using Bayesian Networks\n",
    "\n",
    "[1]: L. Lin and M. A. Goodrich, ‘A Bayesian approach to modeling lost person behaviors based on terrain features in Wilderness Search and Rescue’, Comput Math Organ Theory, vol. 16, no. 3, pp. 300–323, Jul. 2010, doi: [10.1007/s10588-010-9066-2](https://doi.org/10.1007/s10588-010-9066-2)."
   ]
  },
  {
   "cell_type": "code",
   "execution_count": null,
   "metadata": {
    "pycharm": {
     "name": "#%%\n"
    }
   },
   "outputs": [],
   "source": [
    "import sys, os\n",
    "\n",
    "sys.path.insert(0, os.path.join(os.getcwd(), \"../src\")) # run f"
   ]
  },
  {
   "cell_type": "code",
   "execution_count": null,
   "metadata": {
    "pycharm": {
     "name": "#%%\n"
    }
   },
   "outputs": [],
   "source": [
    "import numpy as np\n",
    "from scipy import signal as sps\n",
    "import matplotlib.pyplot as plt\n",
    "import matplotlib.patches as patches\n",
    "import matplotlib as mpl\n",
    "\n",
    "from loguru import logger\n",
    "from typing import List, Tuple\n",
    "from copy import copy\n",
    "import pydantic\n",
    "import enum"
   ]
  },
  {
   "cell_type": "code",
   "execution_count": null,
   "metadata": {
    "pycharm": {
     "name": "#%%\n"
    }
   },
   "outputs": [],
   "source": [
    "# Install from package at https://github.com/iwishiwasaneagle/jsim/releases/latest or add use it from within the project\n",
    "from jsim.Environment import Environment, HexEnvironment\n",
    "from jsim.Environment.HexEnvironment.HexCoords import OffsetCoord\n",
    "from jsim.Simulation import Simulation\n",
    "from jsim.Meta import Action, State"
   ]
  },
  {
   "cell_type": "code",
   "execution_count": null,
   "metadata": {
    "pycharm": {
     "name": "#%%\n"
    }
   },
   "outputs": [],
   "source": [
    "class BNHexEnvironment(HexEnvironment):\n",
    "    def reset(self) -> State:\n",
    "        pass\n",
    "\n",
    "    def step(self, pa: Action) -> tuple[State, float]:\n",
    "        pass"
   ]
  },
  {
   "cell_type": "code",
   "execution_count": null,
   "metadata": {
    "pycharm": {
     "name": "#%%\n"
    }
   },
   "outputs": [],
   "source": [
    "pdm = BNHexEnvironment(m=9)\n",
    "\n",
    "polygons = pdm.as_mpl_polygons()\n",
    "\n",
    "fig, ax = plt.subplots(1)\n",
    "ax.set_aspect('equal')\n",
    "\n",
    "for p in polygons:\n",
    "    ax.add_patch(p)\n",
    "\n",
    "pos = OffsetCoord(col=2,row=3)\n",
    "for p in HexEnvironment.offsets_to_mpl_polygons(HexEnvironment.neighbors_coord(pos)):\n",
    "    ax.add_patch(p)\n",
    "\n",
    "ax.add_patch(HexEnvironment.offset_to_mpl_polygon(pos,(1.,1.,1.,1.)))\n",
    "plt.autoscale(enable=True)\n",
    "plt.show()"
   ]
  },
  {
   "cell_type": "code",
   "execution_count": null,
   "metadata": {
    "pycharm": {
     "name": "#%%\n"
    }
   },
   "outputs": [],
   "source": []
  }
 ],
 "metadata": {
  "kernelspec": {
   "display_name": "Python 3",
   "language": "python",
   "name": "python3"
  },
  "language_info": {
   "codemirror_mode": {
    "name": "ipython",
    "version": 2
   },
   "file_extension": ".py",
   "mimetype": "text/x-python",
   "name": "python",
   "nbconvert_exporter": "python",
   "pygments_lexer": "ipython2",
   "version": "2.7.6"
  }
 },
 "nbformat": 4,
 "nbformat_minor": 0
}
