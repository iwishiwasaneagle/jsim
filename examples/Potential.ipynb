{
 "cells": [
  {
   "cell_type": "markdown",
   "metadata": {},
   "source": [
    "# Potential Navigation\n",
    "\n",
    "An implementation of potential navigation"
   ]
  },
  {
   "cell_type": "code",
   "execution_count": 1,
   "metadata": {
    "execution": {
     "iopub.execute_input": "2021-12-15T18:23:11.891332Z",
     "iopub.status.busy": "2021-12-15T18:23:11.890743Z",
     "iopub.status.idle": "2021-12-15T18:23:11.897949Z",
     "shell.execute_reply": "2021-12-15T18:23:11.898347Z"
    }
   },
   "outputs": [],
   "source": [
    "import sys, os\n",
    "\n",
    "sys.path.insert(0, os.path.join(os.getcwd(), \"../src\")) # run from within examples folder"
   ]
  },
  {
   "cell_type": "code",
   "execution_count": 2,
   "metadata": {
    "execution": {
     "iopub.execute_input": "2021-12-15T18:23:11.902531Z",
     "iopub.status.busy": "2021-12-15T18:23:11.901847Z",
     "iopub.status.idle": "2021-12-15T18:23:12.652947Z",
     "shell.execute_reply": "2021-12-15T18:23:12.651677Z"
    }
   },
   "outputs": [],
   "source": [
    "import numpy as np\n",
    "import matplotlib.pyplot as plt\n",
    "from loguru import logger\n",
    "from typing import List, Tuple\n",
    "from copy import copy"
   ]
  },
  {
   "cell_type": "code",
   "execution_count": 3,
   "metadata": {
    "execution": {
     "iopub.execute_input": "2021-12-15T18:23:12.657292Z",
     "iopub.status.busy": "2021-12-15T18:23:12.656772Z",
     "iopub.status.idle": "2021-12-15T18:23:12.666351Z",
     "shell.execute_reply": "2021-12-15T18:23:12.665849Z"
    }
   },
   "outputs": [],
   "source": [
    "# Install from package at https://github.com/iwishiwasaneagle/jsim/releases/latest\n",
    "from jsim.Simulation import Simulation\n",
    "from jsim.Agent import Agent\n",
    "from jsim.Environment import Environment\n",
    "from jsim.Meta import Action, State"
   ]
  },
  {
   "cell_type": "code",
   "execution_count": 4,
   "metadata": {
    "execution": {
     "iopub.execute_input": "2021-12-15T18:23:12.675239Z",
     "iopub.status.busy": "2021-12-15T18:23:12.673499Z",
     "iopub.status.idle": "2021-12-15T18:23:12.675898Z",
     "shell.execute_reply": "2021-12-15T18:23:12.676513Z"
    }
   },
   "outputs": [],
   "source": [
    "class Force(Action):\n",
    "    def __init__(self, x=0.0, y=0.0) -> None:\n",
    "        super().__init__()\n",
    "\n",
    "        self.x = x\n",
    "        self.y = y\n",
    "\n",
    "\n",
    "class XYState(State):\n",
    "    def __init__(self, x=0, y=0) -> None:\n",
    "        super().__init__()\n",
    "\n",
    "        self.x = x\n",
    "        self.y = y\n",
    "\n",
    "\n",
    "class Position(XYState):\n",
    "    pass\n",
    "\n",
    "\n",
    "class Velocity(XYState):\n",
    "    pass\n",
    "\n",
    "\n",
    "class Acceleration(XYState):\n",
    "    pass\n",
    "\n",
    "\n",
    "class PhysicalState(State):\n",
    "    def __init__(self, position=None, velocity=None, acceleration=None) -> None:\n",
    "        super().__init__()\n",
    "        if position is None:\n",
    "            position = Position()\n",
    "\n",
    "        if velocity is None:\n",
    "            velocity = Velocity()\n",
    "\n",
    "        if acceleration is None:\n",
    "            acceleration = Acceleration()\n",
    "\n",
    "        self.pos = position\n",
    "        self.vel = velocity\n",
    "        self.acc = acceleration"
   ]
  },
  {
   "cell_type": "code",
   "execution_count": 5,
   "metadata": {
    "execution": {
     "iopub.execute_input": "2021-12-15T18:23:12.684487Z",
     "iopub.status.busy": "2021-12-15T18:23:12.683941Z",
     "iopub.status.idle": "2021-12-15T18:23:12.688774Z",
     "shell.execute_reply": "2021-12-15T18:23:12.688346Z"
    }
   },
   "outputs": [],
   "source": [
    "class PotentialAgent(Agent):\n",
    "    def __init__(self, *args) -> None:\n",
    "        super().__init__(*args)\n",
    "\n",
    "        self.reset(PhysicalState())\n",
    "\n",
    "    def reset(self, ps: PhysicalState) -> Force:\n",
    "        super().reset(ps)\n",
    "        return self.policy(ps)\n",
    "\n",
    "    def step(\n",
    "        self, ps: PhysicalState, pa: Force, pnext_s: PhysicalState, reward: float\n",
    "    ) -> Force:\n",
    "        return self.policy(self.state)\n",
    "\n",
    "    def update(self, pa: Force) -> PhysicalState:\n",
    "        fx, fy = pa.x, pa.y\n",
    "\n",
    "        self.state.acc.x = fx * 0.1 - 0.4 * self.state.vel.x\n",
    "        self.state.acc.y = fy * 0.1 - 0.4 * self.state.vel.y\n",
    "\n",
    "        self.state.vel.x += self.state.acc.x * self.psim.dt\n",
    "        self.state.vel.y += self.state.acc.y * self.psim.dt\n",
    "\n",
    "        self.state.pos.x += self.state.vel.x * self.psim.dt\n",
    "        self.state.pos.y += self.state.vel.y * self.psim.dt\n",
    "\n",
    "        return self.state\n",
    "\n",
    "    def policy(self, pnext_s: PhysicalState) -> Force:\n",
    "        \"\"\"\n",
    "        The agent wants to get to (20,20).\n",
    "\n",
    "        Simple potential function following to the minima.\n",
    "\n",
    "        .. math::\n",
    "            f_x = \\\\frac{d}{dx} [ (x-20)^2 + (y-20)^2 ] = 2(x-20)\n",
    "\n",
    "            f_y = \\\\frac{d}{dy} [ (x-20)^2 + (y-20)^2 ] = 2(y-20)\n",
    "        \"\"\"\n",
    "\n",
    "        fx = -2 * (pnext_s.pos.x - 20)  # minus to make it go towards the centre\n",
    "        fy = -2 * (pnext_s.pos.y - 20)\n",
    "\n",
    "        return Force(fx, fy)"
   ]
  },
  {
   "cell_type": "code",
   "execution_count": 6,
   "metadata": {
    "execution": {
     "iopub.execute_input": "2021-12-15T18:23:12.694545Z",
     "iopub.status.busy": "2021-12-15T18:23:12.693262Z",
     "iopub.status.idle": "2021-12-15T18:23:12.695115Z",
     "shell.execute_reply": "2021-12-15T18:23:12.695564Z"
    }
   },
   "outputs": [],
   "source": [
    "class PotentialEnv(Environment):\n",
    "    def __init__(self, *args, **kwargs) -> None:\n",
    "        super().__init__(*args, **kwargs)\n",
    "\n",
    "    def reset(self) -> None:\n",
    "        \"\"\"\n",
    "        This env has no memory or physicalness to it.\n",
    "        \"\"\"\n",
    "        pass\n",
    "\n",
    "    def step(self) -> Tuple[None, float]:\n",
    "        \"\"\"\n",
    "        This env has no memory or physicalness to it.\n",
    "        \"\"\"\n",
    "        return None, 0"
   ]
  },
  {
   "cell_type": "code",
   "execution_count": 7,
   "metadata": {
    "execution": {
     "iopub.execute_input": "2021-12-15T18:23:12.704161Z",
     "iopub.status.busy": "2021-12-15T18:23:12.703631Z",
     "iopub.status.idle": "2021-12-15T18:23:12.706439Z",
     "shell.execute_reply": "2021-12-15T18:23:12.706824Z"
    }
   },
   "outputs": [],
   "source": [
    "class PotentialSim(Simulation):\n",
    "    env: PotentialEnv\n",
    "    agent: PotentialAgent\n",
    "\n",
    "    def __init__(self, dt=0.1) -> None:\n",
    "        self.pos_arr = []\n",
    "        self.env = PotentialEnv(self)\n",
    "        self.agent = PotentialAgent(self,self.env)\n",
    "        self.dt = dt\n",
    "        super().__init__()\n",
    "\n",
    "    def reset(self) -> None:\n",
    "        self.env_s = self.env.reset()\n",
    "        self.agent_s = PhysicalState(\n",
    "            position=Position(*(20 + 5 * np.random.normal(0, (2, 1)))),\n",
    "            velocity=Velocity(*np.random.rand(2) * 5),\n",
    "        )\n",
    "        self.agent_a = self.agent.reset(self.agent_s)\n",
    "\n",
    "    def collect_data(self, ps: PhysicalState) -> None:\n",
    "        self.pos_arr.append((ps.pos.x, ps.pos.y))\n",
    "\n",
    "    def steps(self, num_steps: int) -> None:\n",
    "        for i in range(num_steps):\n",
    "\n",
    "            agent_a = self.agent.step(self.agent_s, self.agent_a, None, 0)\n",
    "            agent_s = self.agent.update(agent_a)\n",
    "\n",
    "            self.collect_data(agent_s)\n",
    "\n",
    "            if agent_s != 0:\n",
    "                self.agent_a = agent_a\n",
    "                self.agent_s = agent_s\n",
    "            else:\n",
    "                self.reset()\n",
    "                logger.info(f\"Trial completed after {i}/{num_steps} steps\")\n",
    "                return"
   ]
  },
  {
   "cell_type": "code",
   "execution_count": 8,
   "metadata": {
    "execution": {
     "iopub.execute_input": "2021-12-15T18:23:12.721706Z",
     "iopub.status.busy": "2021-12-15T18:23:12.714570Z",
     "iopub.status.idle": "2021-12-15T18:23:13.029899Z",
     "shell.execute_reply": "2021-12-15T18:23:13.030298Z"
    }
   },
   "outputs": [
    {
     "data": {
      "image/png": "[encoded data removed]",
      "text/plain": [
       "<Figure size 640x480 with 2 Axes>"
      ]
     },
     "metadata": {
      "needs_background": "light"
     },
     "output_type": "display_data"
    }
   ],
   "source": [
    "\n",
    "mysim = PotentialSim()\n",
    "mysim.steps(1000)\n",
    "\n",
    "pos_x = [p[0] for p in mysim.pos_arr]\n",
    "pos_y = [p[1] for p in mysim.pos_arr]\n",
    "t = [mysim.dt * i for i in range(len(pos_x))]\n",
    "\n",
    "fig, (ax1,ax2) = plt.subplots(2,1,gridspec_kw={'height_ratios': [1, 3]},figsize=(8, 6), dpi=80)\n",
    "\n",
    "ax1.plot(t, pos_x,label='x')\n",
    "ax1.plot(t, pos_y,label='y')\n",
    "ax1.set_ylabel('displacement in axis')\n",
    "ax1.set_xlabel('time')\n",
    "ax1.legend()\n",
    "\n",
    "x,y = np.meshgrid(\n",
    "        np.arange(\n",
    "            np.floor(min(pos_x))-5,\n",
    "            np.ceil(max(pos_x))+5\n",
    "            ),\n",
    "        np.arange(\n",
    "            np.floor(min(pos_y))-5,\n",
    "            np.ceil(max(pos_y))+5\n",
    "            )\n",
    "        )\n",
    "z = (x-20)**2 + (y-20)**2\n",
    "ax2.imshow(-z, origin='lower', extent=[np.min(x), np.max(x), np.min(y), np.max(y)])\n",
    "ax2.plot(pos_x, pos_y)\n",
    "ax2.scatter(pos_x[0], pos_y[0], label=\"Start\")\n",
    "ax2.scatter(pos_x[-1], pos_y[-1], label=\"End\")\n",
    "ax2.set_xlabel('x')\n",
    "ax2.set_ylabel('y')\n",
    "ax2.legend()\n",
    "\n",
    "fig.tight_layout()"
   ]
  }
 ],
 "metadata": {
  "interpreter": {
   "hash": "f48e1beb054d15eddda62303017271eb35bec35b6ca4ee641291c84407da40eb"
  },
  "kernelspec": {
   "display_name": "Python 3.9.7 64-bit ('venv': venv)",
   "language": "python",
   "name": "python3"
  },
  "language_info": {
   "codemirror_mode": {
    "name": "ipython",
    "version": 3
   },
   "file_extension": ".py",
   "mimetype": "text/x-python",
   "name": "python",
   "nbconvert_exporter": "python",
   "pygments_lexer": "ipython3",
   "version": "3.8.10"
  }
 },
 "nbformat": 4,
 "nbformat_minor": 2
}
