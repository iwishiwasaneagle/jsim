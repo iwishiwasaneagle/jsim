{
 "cells": [
  {
   "cell_type": "markdown",
   "id": "c9ec9642",
   "metadata": {},
   "source": [
    "# Local Hill Climb\n",
    "\n",
    "Local Hill Climb search algorithm implemented in a discrete environment.\n"
   ]
  },
  {
   "cell_type": "code",
   "execution_count": 1,
   "id": "38c41299",
   "metadata": {
    "execution": {
     "iopub.execute_input": "2022-01-26T14:20:23.196180Z",
     "iopub.status.busy": "2022-01-26T14:20:23.195323Z",
     "iopub.status.idle": "2022-01-26T14:20:23.198359Z",
     "shell.execute_reply": "2022-01-26T14:20:23.198747Z"
    }
   },
   "outputs": [],
   "source": [
    "import sys, os\n",
    "\n",
    "sys.path.insert(0, os.path.join(os.getcwd(), \"../src\")) # run from within examples folder"
   ]
  },
  {
   "cell_type": "code",
   "execution_count": 2,
   "id": "ad4bebe2",
   "metadata": {
    "execution": {
     "iopub.execute_input": "2022-01-26T14:20:23.202102Z",
     "iopub.status.busy": "2022-01-26T14:20:23.201676Z",
     "iopub.status.idle": "2022-01-26T14:20:23.984065Z",
     "shell.execute_reply": "2022-01-26T14:20:23.983167Z"
    }
   },
   "outputs": [],
   "source": [
    "import numpy as np\n",
    "import matplotlib.pyplot as plt\n",
    "from loguru import logger\n",
    "from typing import List, Tuple\n",
    "from copy import copy"
   ]
  },
  {
   "cell_type": "code",
   "execution_count": 3,
   "id": "6b1d1181",
   "metadata": {
    "execution": {
     "iopub.execute_input": "2022-01-26T14:20:23.988341Z",
     "iopub.status.busy": "2022-01-26T14:20:23.987887Z",
     "iopub.status.idle": "2022-01-26T14:20:24.031278Z",
     "shell.execute_reply": "2022-01-26T14:20:24.030835Z"
    }
   },
   "outputs": [],
   "source": [
    "# Install from package at https://github.com/iwishiwasaneagle/jsim/releases/latest\n",
    "from jsim.Simulation import Simulation\n",
    "from jsim.Agent import Agent\n",
    "from jsim.Environment import Environment\n",
    "from jsim.Meta import Action, State"
   ]
  },
  {
   "cell_type": "code",
   "execution_count": 4,
   "id": "03c85589",
   "metadata": {
    "execution": {
     "iopub.execute_input": "2022-01-26T14:20:24.036842Z",
     "iopub.status.busy": "2022-01-26T14:20:24.036166Z",
     "iopub.status.idle": "2022-01-26T14:20:24.038355Z",
     "shell.execute_reply": "2022-01-26T14:20:24.037983Z"
    }
   },
   "outputs": [],
   "source": [
    "class XYState(State):\n",
    "    def __init__(self,x:float=0,y:float=0) -> None:\n",
    "        self.x = x\n",
    "        self.y = y\n",
    "    \n",
    "    def __str__(self) -> str:\n",
    "        return f\"{type(self).__name__}({self.x}, {self.y})\"\n",
    "\n",
    "class Position(XYState):\n",
    "    pass"
   ]
  },
  {
   "cell_type": "code",
   "execution_count": 5,
   "id": "ace57f35",
   "metadata": {
    "execution": {
     "iopub.execute_input": "2022-01-26T14:20:24.046131Z",
     "iopub.status.busy": "2022-01-26T14:20:24.045058Z",
     "iopub.status.idle": "2022-01-26T14:20:24.046655Z",
     "shell.execute_reply": "2022-01-26T14:20:24.047007Z"
    }
   },
   "outputs": [],
   "source": [
    "class VicinityPDM(State):\n",
    "    def __init__(self, vicinity: List) -> None:\n",
    "        \"\"\"\n",
    "        A slice of the PDM centered at the agent's location\n",
    "\n",
    "        -------------\n",
    "        | 0 | 1 | 2 |\n",
    "        | - | - | - |\n",
    "        | 3 | 4 | 5 |\n",
    "        | - | - | - |\n",
    "        | 6 | 7 | 8 |\n",
    "        -------------    \n",
    "\n",
    "        :param vicinity: The PDM values in the 3x3 area around the agent\n",
    "        :type vicinity: List\n",
    "        \"\"\"\n",
    "        assert len(vicinity) == 9\n",
    "        self._vicinity = vicinity\n",
    "\n",
    "    def __len__(self):\n",
    "        return len(self._vicinity)\n",
    "\n",
    "    def __getitem__(self, idx):\n",
    "        assert idx>=0 and idx<=8\n",
    "        assert isinstance(idx,int)\n",
    "\n",
    "        return self._vicinity[idx]\n",
    "\n",
    "    def __iter__(self):\n",
    "        if not hasattr(self, '_c'):\n",
    "            self._c = -1\n",
    "        return self\n",
    "\n",
    "    def __next__(self):\n",
    "        self._c += 1\n",
    "        if self._c >= len(self):\n",
    "            raise StopIteration\n",
    "        return self._vicinity[self._c]\n",
    "    \n",
    "    def __str__(self) -> str:\n",
    "        return f\"{type(self).__name__}({self._vicinity})\"\n",
    "\n",
    "assert max(VicinityPDM([1,2,3,10,5,6,7,8,9])) == 10"
   ]
  },
  {
   "cell_type": "code",
   "execution_count": 6,
   "id": "6db50457",
   "metadata": {
    "execution": {
     "iopub.execute_input": "2022-01-26T14:20:24.052810Z",
     "iopub.status.busy": "2022-01-26T14:20:24.051791Z",
     "iopub.status.idle": "2022-01-26T14:20:24.053317Z",
     "shell.execute_reply": "2022-01-26T14:20:24.053662Z"
    }
   },
   "outputs": [],
   "source": [
    "class Step(Action):\n",
    "    def __init__(self, idx:int) -> None:\n",
    "        self.idx = int(idx)\n",
    "        lookup = [\n",
    "            (-1, +1),\n",
    "            ( 0,  +1),\n",
    "            ( 1, +1),\n",
    "            (-1,  1),\n",
    "            ( 0,  1),\n",
    "            ( 1,  1),\n",
    "            (-1, -1),\n",
    "            ( 0, -1),\n",
    "            ( 1, -1),\n",
    "            ]\n",
    "        self.rel_x, self.rel_y = lookup[self.idx]\n",
    "    \n",
    "    def __str__(self) -> str:\n",
    "        return f\"{type(self).__name__}({self.rel_x},{self.rel_y})\""
   ]
  },
  {
   "cell_type": "code",
   "execution_count": 7,
   "id": "6e9f696f",
   "metadata": {
    "execution": {
     "iopub.execute_input": "2022-01-26T14:20:24.064503Z",
     "iopub.status.busy": "2022-01-26T14:20:24.060897Z",
     "iopub.status.idle": "2022-01-26T14:20:24.065999Z",
     "shell.execute_reply": "2022-01-26T14:20:24.066333Z"
    }
   },
   "outputs": [],
   "source": [
    "class PDMEnv(Environment):\n",
    "    def __init__(self, N:int=16, psim: Simulation = None) -> None:\n",
    "        super().__init__(psim=psim)\n",
    "\n",
    "        self.size = (N,N)\n",
    "\n",
    "        self.pdm = self._generate_pdm()\n",
    "\n",
    "    def _generate_pdm(self, N:int=5):\n",
    "        x, y = np.meshgrid(np.arange(self.size[0]), np.arange(self.size[1]))\n",
    "\n",
    "        pdm = np.zeros(self.size)\n",
    "\n",
    "        for _ in range(N): # Generate N gaussians\n",
    "            A = max(np.random.rand()*2,1)\n",
    "            a = np.random.rand()*0.03\n",
    "            b = 0\n",
    "            c = np.random.rand()*0.03\n",
    "            x0 = np.random.uniform(0,self.size[0]) # Centre of gaussian\n",
    "            y0 = np.random.uniform(0,self.size[1])\n",
    "            \n",
    "            pdm += A*np.exp(-(a*(x-x0)**2+2*b*(x-x0)*(y-y0)+c*(y-y0)**2))\n",
    "                \n",
    "        return pdm\n",
    "\n",
    "    def _get_vicinity_at_xy(self,x:int,y:int):\n",
    "        vicinity = np.empty(9)\n",
    "\n",
    "        for idx,ij in enumerate([\n",
    "                                (x-1,y+1),\n",
    "                                (x,  y+1),\n",
    "                                (x+1,y+1),\n",
    "                                (x-1,y),\n",
    "                                (x,  y),\n",
    "                                (x+1,y),\n",
    "                                (x-1,y-1),\n",
    "                                (x,  y-1),\n",
    "                                (x+1,y-1),\n",
    "                                ]):\n",
    "            i,j = ij\n",
    "            # Todo: does i corresponds to shape[0] or shape[1]?\n",
    "            if i<0 or j<0 or i>=self.pdm.shape[0] or j>=self.pdm.shape[1]: \n",
    "                vicinity[idx] = -np.iinfo(np.int16).max\n",
    "            else:\n",
    "                vicinity[idx] = self.pdm[j][i]\n",
    "        return vicinity\n",
    "\n",
    "    def reset(self, agent_p:Position) -> Position:\n",
    "        self.pdm = self._generate_pdm()\n",
    "\n",
    "        vicinity = self._get_vicinity_at_xy(agent_p.x, agent_p.y)\n",
    "\n",
    "        return vicinity\n",
    "\n",
    "    def step(self, agent_s: Position) -> Tuple[VicinityPDM, float]:\n",
    "        assert agent_s.x >=0 and agent_s.y>=0\n",
    "\n",
    "        reward = self.pdm[agent_s.y][agent_s.x]\n",
    "        self.pdm[agent_s.y][agent_s.x] = -1 # Todo: adjust this\n",
    "\n",
    "        env_s = self._get_vicinity_at_xy(agent_s.x,agent_s.y)\n",
    "\n",
    "        return env_s, reward"
   ]
  },
  {
   "cell_type": "code",
   "execution_count": 8,
   "id": "76ad763f",
   "metadata": {
    "execution": {
     "iopub.execute_input": "2022-01-26T14:20:24.073129Z",
     "iopub.status.busy": "2022-01-26T14:20:24.072094Z",
     "iopub.status.idle": "2022-01-26T14:20:24.073709Z",
     "shell.execute_reply": "2022-01-26T14:20:24.074066Z"
    }
   },
   "outputs": [],
   "source": [
    "class LHCAgent(Agent):\n",
    "    def __init__(self, penv: Environment = None) -> None:\n",
    "        self.penv = penv\n",
    "\n",
    "    def policy(self, pnext_s: VicinityPDM) -> Step:\n",
    "        idx = np.argmax(copy(pnext_s))\n",
    "        return Step(idx)\n",
    "\n",
    "    def step(self, pnext_s: VicinityPDM) -> Step:\n",
    "        return self.policy(pnext_s)\n",
    "\n",
    "    def update(self, pa: Step) -> Position:\n",
    "        if not hasattr(self,'state'):\n",
    "            logger.error(f\"Reset has not been called as {hasattr(self,'state')=}\")\n",
    "            raise Exception\n",
    "\n",
    "        self.state.x += pa.rel_x\n",
    "        self.state.y += pa.rel_y\n",
    "\n",
    "        return copy(self.state)\n",
    "        \n",
    "    def reset(self, ps: Position, vicinity: VicinityPDM) -> Tuple[Step, Position]:\n",
    "        self.state = copy(ps)\n",
    "        return self.policy(vicinity), self.state"
   ]
  },
  {
   "cell_type": "code",
   "execution_count": 9,
   "id": "f305f99d",
   "metadata": {
    "execution": {
     "iopub.execute_input": "2022-01-26T14:20:24.081549Z",
     "iopub.status.busy": "2022-01-26T14:20:24.076269Z",
     "iopub.status.idle": "2022-01-26T14:20:24.087902Z",
     "shell.execute_reply": "2022-01-26T14:20:24.087504Z"
    }
   },
   "outputs": [],
   "source": [
    "class LHCSim(Simulation):\n",
    "    agent: LHCAgent\n",
    "    env: PDMEnv\n",
    "\n",
    "    def __init__(self, initial_pos=Position(), dt=0.1) -> None:\n",
    "        self.env = PDMEnv(16,self)\n",
    "        self.agent = LHCAgent(self.env)\n",
    "        self.dt = dt\n",
    "\n",
    "        self.initial_agent_s = initial_pos\n",
    "\n",
    "        self.data_store = {'env_s':[],'agent_s':[],'agent_a':[],'reward':[]}\n",
    "        super().__init__()\n",
    "\n",
    "    def reset(self) -> None:\n",
    "        self.vicinity_pdm = self.env.reset(self.initial_agent_s)\n",
    "        self.agent_a, self.agent_s = self.agent.reset(self.initial_agent_s,self.vicinity_pdm)\n",
    "        self.data_store = {'env_s':[],'agent_s':[],'agent_a':[],'reward':[]}\n",
    "\n",
    "    def steps(self, num_steps: int) -> None:\n",
    "        self.reset()\n",
    "\n",
    "        for _ in range(num_steps):\n",
    "            vicinity_pdm, reward = self.env.step(self.agent_s)\n",
    "\n",
    "            self.collect_data(vicinity_pdm, self.agent_a, self.agent_s, reward)\n",
    "\n",
    "            agent_a = self.agent.step(vicinity_pdm)\n",
    "\n",
    "            agent_s = self.agent.update(agent_a)\n",
    "\n",
    "            self.agent_s = agent_s\n",
    "            self.agent_a = agent_a\n",
    "            self.vicinity_pdm = vicinity_pdm\n",
    "            \n",
    "        logger.info(f\"Maximum number of steps={num_steps} reached\")\n",
    "                \n",
    "\n",
    "    def collect_data(self, env_s: VicinityPDM, agent_a: Step, agent_s: Position, reward: float) -> None:\n",
    "        self.data_store['env_s'].append(copy(env_s))\n",
    "        self.data_store['agent_a'].append(copy(agent_a))\n",
    "        self.data_store['agent_s'].append(copy(agent_s))\n",
    "        self.data_store['reward'].append(copy(reward))\n",
    "            \n",
    "    def plot(self):\n",
    "        fig, (ax1, ax2) = plt.subplots(2,1, gridspec_kw={'height_ratios': [1, 3]}, figsize=(8, 6), dpi=80)\n",
    "\n",
    "        # Reward over time\n",
    "        t = [t*self.dt for t in range(len(self.data_store['env_s']))]\n",
    "        ax1.plot(t,np.cumsum(self.data_store['reward']))\n",
    "        ax1.set_ylabel('Cumulative reward')\n",
    "        ax1.set_xlabel('time (s)')\n",
    "\n",
    "        # Show pdm and path\n",
    "        x = [p.x+0.5 for p in self.data_store['agent_s']]\n",
    "        y = [p.y+0.5 for p in self.data_store['agent_s']]\n",
    "        \n",
    "        pdm = self.env.pdm\n",
    "\n",
    "        ax2.imshow(pdm, origin='lower', extent=[0, pdm.shape[0], 0, pdm.shape[1]])\n",
    "        ax2.plot(x,y)\n",
    "        ax2.scatter(x[0],y[0],label='Start')\n",
    "        ax2.scatter(x[-1],y[-1],label='End')\n",
    "        ax2.set_ylabel('y')\n",
    "        ax2.set_xlabel('x')\n",
    "        ax2.legend()\n",
    "\n",
    "        fig.tight_layout()"
   ]
  },
  {
   "cell_type": "code",
   "execution_count": 10,
   "id": "496bcbb9",
   "metadata": {
    "execution": {
     "iopub.execute_input": "2022-01-26T14:20:24.095342Z",
     "iopub.status.busy": "2022-01-26T14:20:24.094806Z",
     "iopub.status.idle": "2022-01-26T14:20:24.447570Z",
     "shell.execute_reply": "2022-01-26T14:20:24.447167Z"
    }
   },
   "outputs": [
    {
     "name": "stderr",
     "output_type": "stream",
     "text": [
      "2022-01-26 14:20:24.093 | INFO     | __main__:steps:36 - Maximum number of steps=30 reached\n"
     ]
    },
    {
     "data": {
      "image/png": "[encoded data removed]",
      "text/plain": [
       "<Figure size 640x480 with 2 Axes>"
      ]
     },
     "metadata": {
      "needs_background": "light"
     },
     "output_type": "display_data"
    }
   ],
   "source": [
    "sim = LHCSim()\n",
    "\n",
    "sim.steps(30)\n",
    "sim.plot()"
   ]
  }
 ],
 "metadata": {
  "kernelspec": {
   "display_name": "Python 3 (ipykernel)",
   "language": "python",
   "name": "python3"
  },
  "language_info": {
   "codemirror_mode": {
    "name": "ipython",
    "version": 3
   },
   "file_extension": ".py",
   "mimetype": "text/x-python",
   "name": "python",
   "nbconvert_exporter": "python",
   "pygments_lexer": "ipython3",
   "version": "3.10.2"
  }
 },
 "nbformat": 4,
 "nbformat_minor": 5
}
