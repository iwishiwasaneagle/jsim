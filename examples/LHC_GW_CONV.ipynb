{
 "cells": [
  {
   "cell_type": "markdown",
   "id": "c9ec9642",
   "metadata": {},
   "source": [
    "# LHC_GW_CONV\n",
    "\n",
    "Local Hill Climb Global Warming Convolution[1] search algorithm implemented in a discrete environment using jsim.\n",
    "\n",
    "[1] L. Lin and M. A. Goodrich, ‘UAV intelligent path planning for wilderness search and rescue’, 2009 IEEE/RSJ International Conference on Intelligent Robots and Systems, IROS 2009, vol. 0, no. 1, pp. 709–714, 2009, doi: [10.1109/IROS.2009.5354455.](https://doi.org/10.1109/IROS.2009.5354455)"
   ]
  },
  {
   "cell_type": "code",
   "execution_count": 1,
   "id": "38c41299",
   "metadata": {
    "execution": {
     "iopub.execute_input": "2021-12-16T10:50:10.550133Z",
     "iopub.status.busy": "2021-12-16T10:50:10.549725Z",
     "iopub.status.idle": "2021-12-16T10:50:10.556573Z",
     "shell.execute_reply": "2021-12-16T10:50:10.556145Z"
    }
   },
   "outputs": [],
   "source": [
    "import sys, os\n",
    "\n",
    "sys.path.insert(0, os.path.join(os.getcwd(), \"../src\")) # run from within examples folder"
   ]
  },
  {
   "cell_type": "code",
   "execution_count": 2,
   "id": "ad4bebe2",
   "metadata": {
    "execution": {
     "iopub.execute_input": "2021-12-16T10:50:10.559782Z",
     "iopub.status.busy": "2021-12-16T10:50:10.559365Z",
     "iopub.status.idle": "2021-12-16T10:50:11.457150Z",
     "shell.execute_reply": "2021-12-16T10:50:11.456657Z"
    }
   },
   "outputs": [],
   "source": [
    "import numpy as np\n",
    "from scipy import signal as sps\n",
    "import matplotlib.pyplot as plt\n",
    "from loguru import logger\n",
    "from typing import List, Tuple\n",
    "from copy import copy"
   ]
  },
  {
   "cell_type": "code",
   "execution_count": 3,
   "id": "3bba27a4",
   "metadata": {
    "execution": {
     "iopub.execute_input": "2021-12-16T10:50:11.463520Z",
     "iopub.status.busy": "2021-12-16T10:50:11.463088Z",
     "iopub.status.idle": "2021-12-16T10:50:11.465955Z",
     "shell.execute_reply": "2021-12-16T10:50:11.465602Z"
    },
    "pycharm": {
     "name": "#%%\n"
    }
   },
   "outputs": [],
   "source": [
    "logger.remove()\n",
    "if os.environ.get('DEBUG', False):\n",
    "    logger.add(sys.stderr, level=\"DEBUG\")\n",
    "else:\n",
    "    logger.add(sys.stderr, level=\"INFO\")"
   ]
  },
  {
   "cell_type": "code",
   "execution_count": 4,
   "id": "6b1d1181",
   "metadata": {
    "execution": {
     "iopub.execute_input": "2021-12-16T10:50:11.469272Z",
     "iopub.status.busy": "2021-12-16T10:50:11.468558Z",
     "iopub.status.idle": "2021-12-16T10:50:11.477578Z",
     "shell.execute_reply": "2021-12-16T10:50:11.477212Z"
    }
   },
   "outputs": [],
   "source": [
    "# Install from package at https://github.com/iwishiwasaneagle/jsim/releases/latest or add use it from within the project\n",
    "from jsim.Simulation import Simulation\n",
    "from jsim.Agent import Agent\n",
    "from jsim.Environment import Environment\n",
    "from jsim.Meta import Action, State"
   ]
  },
  {
   "cell_type": "code",
   "execution_count": 5,
   "id": "03c85589",
   "metadata": {
    "execution": {
     "iopub.execute_input": "2021-12-16T10:50:11.481425Z",
     "iopub.status.busy": "2021-12-16T10:50:11.481004Z",
     "iopub.status.idle": "2021-12-16T10:50:11.484217Z",
     "shell.execute_reply": "2021-12-16T10:50:11.483854Z"
    }
   },
   "outputs": [],
   "source": [
    "class XYState(State):\n",
    "    def __init__(self,x:float=0,y:float=0) -> None:\n",
    "        self.x = x\n",
    "        self.y = y\n",
    "    \n",
    "    def __str__(self) -> str:\n",
    "        return f\"{type(self).__name__}({self.x}, {self.y})\"\n",
    "\n",
    "class Position(XYState):\n",
    "    pass"
   ]
  },
  {
   "cell_type": "code",
   "execution_count": 6,
   "id": "ace57f35",
   "metadata": {
    "execution": {
     "iopub.execute_input": "2021-12-16T10:50:11.491271Z",
     "iopub.status.busy": "2021-12-16T10:50:11.489002Z",
     "iopub.status.idle": "2021-12-16T10:50:11.494265Z",
     "shell.execute_reply": "2021-12-16T10:50:11.493882Z"
    }
   },
   "outputs": [],
   "source": [
    "class VicinityPDM(State):\n",
    "    def __init__(self, vicinity: List, m: int = 3) -> None:\n",
    "        \"\"\"\n",
    "        A slice of the PDM centered at the agent's location\n",
    "\n",
    "        Indices for a m=3 vicinity PDM:\n",
    "\n",
    "            -------------\n",
    "            | 0 | 1 | 2 |\n",
    "            | - | - | - |\n",
    "            | 3 | 4 | 5 |\n",
    "            | - | - | - |\n",
    "            | 6 | 7 | 8 |\n",
    "            -------------\n",
    "\n",
    "        :param vicinity: The PDM values in the 3x3 area around the agent\n",
    "        :type vicinity: List\n",
    "        :param m: Size of the vicinity such that it is a m x m square. Can be (3,5,7,9). Default: 3\n",
    "        :type m: int\n",
    "        \"\"\"\n",
    "        assert m in (3,5,7,9)\n",
    "        assert len(vicinity) == m*m\n",
    "        self._vicinity = vicinity\n",
    "        self._m = m\n",
    "\n",
    "    def __len__(self):\n",
    "        return len(self._vicinity)\n",
    "\n",
    "    def __getitem__(self, idx):\n",
    "        assert 0 <= idx <= (self._m ** 2) - 1\n",
    "        assert isinstance(idx,int)\n",
    "\n",
    "        return self._vicinity[idx]\n",
    "\n",
    "    def __iter__(self):\n",
    "        if not hasattr(self, '_c'):\n",
    "            self._c = -1\n",
    "        return self\n",
    "\n",
    "    def __next__(self):\n",
    "        self._c += 1\n",
    "        if self._c >= len(self):\n",
    "            raise StopIteration\n",
    "        return self._vicinity[self._c]\n",
    "    \n",
    "    def __str__(self) -> str:\n",
    "        return f\"{type(self).__name__}({self._vicinity})\"\n",
    "\n",
    "assert max(VicinityPDM([1,2,3,10,5,6,7,8,9])) == 10\n",
    "assert max(VicinityPDM([1,2,3,10,5,6,7,8,9,1,1,1,2,3,1,2,1,3,6,7,8,2,3,4,5],m=5)) == 10"
   ]
  },
  {
   "cell_type": "code",
   "execution_count": 7,
   "id": "6db50457",
   "metadata": {
    "execution": {
     "iopub.execute_input": "2021-12-16T10:50:11.499578Z",
     "iopub.status.busy": "2021-12-16T10:50:11.497008Z",
     "iopub.status.idle": "2021-12-16T10:50:11.502089Z",
     "shell.execute_reply": "2021-12-16T10:50:11.502407Z"
    }
   },
   "outputs": [],
   "source": [
    "class Step(Action):\n",
    "    def __init__(self, idx:int) -> None:\n",
    "        self.idx = int(idx)\n",
    "        lookup = [\n",
    "            (-1,  1),\n",
    "            ( 0,  1),\n",
    "            ( 1,  1),\n",
    "            (-1,  0),\n",
    "            ( 0,  0),\n",
    "            ( 1,  0),\n",
    "            (-1, -1),\n",
    "            ( 0, -1),\n",
    "            ( 1, -1),\n",
    "            ]\n",
    "        self.rel_x, self.rel_y = lookup[self.idx]\n",
    "    \n",
    "    def __str__(self) -> str:\n",
    "        return f\"{type(self).__name__}({self.rel_x},{self.rel_y})\"\n",
    "\n",
    "    def __eq__(self, other):\n",
    "        assert isinstance(other, self.__class__)\n",
    "        return other.idx == self.idx\n",
    "\n",
    "def test():\n",
    "    assert Step(0) == Step(0)\n",
    "    assert Step(6) != Step(7)\n",
    "\n",
    "    try:\n",
    "        Step(0) == 1\n",
    "        assert False\n",
    "    except AssertionError:\n",
    "        assert True\n",
    "test()"
   ]
  },
  {
   "cell_type": "code",
   "execution_count": 8,
   "id": "6e9f696f",
   "metadata": {
    "execution": {
     "iopub.execute_input": "2021-12-16T10:50:11.514856Z",
     "iopub.status.busy": "2021-12-16T10:50:11.504996Z",
     "iopub.status.idle": "2021-12-16T10:50:11.530145Z",
     "shell.execute_reply": "2021-12-16T10:50:11.529769Z"
    }
   },
   "outputs": [],
   "source": [
    "class PDMEnv(Environment):\n",
    "    def __init__(self, m: int = 16, n_gauss:int = 5, psim: Simulation = None) -> None:\n",
    "        super().__init__(psim=psim)\n",
    "\n",
    "        self._shape = (m,m)\n",
    "\n",
    "        self.pdm = self._generate_pdm(n = n_gauss)\n",
    "\n",
    "    @property\n",
    "    def shape(self):\n",
    "        return self._shape\n",
    "\n",
    "    def _generate_pdm(self, n:int=5):\n",
    "        x, y = np.meshgrid(np.arange(self.shape[0]), np.arange(self.shape[1]))\n",
    "\n",
    "        pdm = np.zeros(self.shape)\n",
    "\n",
    "        for _ in range(n): # Generate n gaussians\n",
    "            A = max(np.random.rand()*2,1)\n",
    "            a = np.random.rand()*0.03\n",
    "            b = 0\n",
    "            c = np.random.rand()*0.03\n",
    "            x0 = np.random.uniform(0,self.shape[0]) # Centre of gaussian\n",
    "            y0 = np.random.uniform(0,self.shape[1])\n",
    "            \n",
    "            pdm += A*np.exp(-(a*(x-x0)**2+2*b*(x-x0)*(y-y0)+c*(y-y0)**2))\n",
    "                \n",
    "        return pdm\n",
    "\n",
    "    def _get_vicinity_at_xy(self,x:int,y:int,m:int=3) -> VicinityPDM:\n",
    "        vicinity = np.empty(m*m)\n",
    "        ij = np.meshgrid(np.arange(-m//2+1,m//2+1),np.flip(np.arange(-m//2+1,m//2+1))) # consult the VicinityPDM docs for why y is flipped and x isn't\n",
    "        for idx,(i, j) in enumerate(\n",
    "                    zip(\n",
    "                        x+ij[0].flatten(),\n",
    "                        y+ij[1].flatten()\n",
    "                    )\n",
    "                ):\n",
    "            # Todo: does i corresponds to shape[0] or shape[1]?\n",
    "            if i<0 or j<0 or i>=self.pdm.shape[0] or j>=self.pdm.shape[1]: \n",
    "                vicinity[idx] = -np.iinfo(np.int16).max\n",
    "            else:\n",
    "                vicinity[idx] = self.pdm[j][i]\n",
    "        return VicinityPDM(vicinity,m=m)\n",
    "\n",
    "    def reset(self, agent_p:Position) -> Position:\n",
    "        self.pdm = self._generate_pdm()\n",
    "\n",
    "        vicinity = self._get_vicinity_at_xy(agent_p.x, agent_p.y)\n",
    "\n",
    "        return vicinity\n",
    "\n",
    "    def step(self, agent_s: Position) -> Tuple[VicinityPDM, float]:\n",
    "        assert agent_s.x >= 0 and agent_s.y >= 0\n",
    "\n",
    "        reward = self.pdm[agent_s.y][agent_s.x]\n",
    "        self.pdm[agent_s.y][agent_s.x] = -1\n",
    "\n",
    "        env_s = self._get_vicinity_at_xy(agent_s.x,agent_s.y)\n",
    "\n",
    "        return env_s, reward\n",
    "\n",
    "def test():\n",
    "    pdm = PDMEnv(m=25)\n",
    "    pdm.pdm = np.zeros(pdm.shape)\n",
    "    pdm.pdm[10,:] = 1.0\n",
    "\n",
    "    for m in (3,5,7,9):\n",
    "        for x in range(m//2,pdm.shape[0]-m//2):\n",
    "            vpdm = pdm._get_vicinity_at_xy(x,9)\n",
    "            assert all(vpdm._vicinity[:3] == 1.0)\n",
    "            vpdm = pdm._get_vicinity_at_xy(x,10)\n",
    "            assert all(vpdm._vicinity[3:6] == 1.0)\n",
    "            vpdm = pdm._get_vicinity_at_xy(x,11)\n",
    "            assert all(vpdm._vicinity[7:9] == 1.0)\n",
    "test()"
   ]
  },
  {
   "cell_type": "code",
   "execution_count": 9,
   "id": "ba1a6b1f",
   "metadata": {
    "execution": {
     "iopub.execute_input": "2021-12-16T10:50:11.537070Z",
     "iopub.status.busy": "2021-12-16T10:50:11.536627Z",
     "iopub.status.idle": "2021-12-16T10:50:11.712031Z",
     "shell.execute_reply": "2021-12-16T10:50:11.712387Z"
    },
    "pycharm": {
     "name": "#%%\n"
    }
   },
   "outputs": [
    {
     "data": {
      "image/png": "[encoded data removed]",
      "text/plain": [
       "<Figure size 432x288 with 1 Axes>"
      ]
     },
     "metadata": {
      "needs_background": "light"
     },
     "output_type": "display_data"
    }
   ],
   "source": [
    "# Validate it works (visually)\n",
    "def validate():\n",
    "    pdm = PDMEnv(m=30, n_gauss=10)\n",
    "\n",
    "    plt.imshow(pdm.pdm, origin='lower', extent=[0, pdm.shape[0], 0, pdm.shape[1]])\n",
    "\n",
    "    for _ in range(5):\n",
    "        m = np.random.choice([3,5,7,9])\n",
    "        x,y = np.random.randint([m//2,m//2], [f-m//2 for f in pdm.shape],(2,))\n",
    "        vpdm = pdm._get_vicinity_at_xy(x,y,m=m)\n",
    "        vpdm = np.reshape(vpdm._vicinity,[m,m])\n",
    "\n",
    "        z = np.zeros(pdm.shape)\n",
    "        z[:] = np.nan\n",
    "\n",
    "        y_lower = y-m//2\n",
    "        y_upper = y+1+m//2\n",
    "        x_lower = x-m//2\n",
    "        x_upper = x+1+m//2\n",
    "\n",
    "        z[ y_lower:y_upper, x_lower:x_upper] = vpdm\n",
    "        plt.imshow(z,cmap='gray', origin='lower', extent=[0, pdm.shape[0], 0, pdm.shape[1]])\n",
    "        plt.scatter(x+0.5,y+0.5)\n",
    "\n",
    "    plt.contour(pdm.pdm, origin='lower', extent=[0, pdm.shape[0], 0, pdm.shape[1]])\n",
    "    plt.clim(np.min(pdm.pdm), np.max(pdm.pdm))\n",
    "    plt.show()\n",
    "validate()"
   ]
  },
  {
   "cell_type": "code",
   "execution_count": 10,
   "id": "76ad763f",
   "metadata": {
    "execution": {
     "iopub.execute_input": "2021-12-16T10:50:11.725536Z",
     "iopub.status.busy": "2021-12-16T10:50:11.725089Z",
     "iopub.status.idle": "2021-12-16T10:50:11.728893Z",
     "shell.execute_reply": "2021-12-16T10:50:11.728513Z"
    }
   },
   "outputs": [],
   "source": [
    "class LHC_GW_CONV_Agent(Agent):\n",
    "    state: Position\n",
    "\n",
    "    def __init__(self, penv: Environment = None) -> None:\n",
    "        self.penv = penv\n",
    "\n",
    "\n",
    "    def policy(self, pnext_s: VicinityPDM) -> Step:\n",
    "        pdm = pnext_s._vicinity\n",
    "        idx = np.argwhere(np.amax(pdm) == pdm).flatten()\n",
    "        if idx.size > 1:\n",
    "            # convolution if there is a tie break\n",
    "            pnext_s = self.penv._get_vicinity_at_xy(self.state.x, self.state.y, m = 7)\n",
    "            vpdm = pnext_s._vicinity.reshape((7,7))\n",
    "\n",
    "            ######## REPLACE KERNEL HERE ########\n",
    "\n",
    "            kernel = np.ones((5,5))\n",
    "\n",
    "            #####################################\n",
    "            kernel /= np.sum(kernel)\n",
    "            assert kernel.shape == (5,5)\n",
    "            assert vpdm.shape == (7,7)\n",
    "            conv_vpdm = sps.convolve2d(vpdm, kernel, mode='valid').flatten()\n",
    "            assert conv_vpdm.shape == (9,)\n",
    "\n",
    "            idx_new = np.argwhere(np.amax(conv_vpdm) == conv_vpdm).flatten()\n",
    "\n",
    "            logger.debug(f\"{len(idx)} collisions detected. Resolved to {idx_new=}\")\n",
    "            idx = idx_new\n",
    "\n",
    "        action = Step(idx[0])\n",
    "        return action\n",
    "\n",
    "    def step(self, pnext_s: VicinityPDM) -> Step:\n",
    "        return self.policy(pnext_s)\n",
    "\n",
    "    def update(self, pa: Step) -> Position:\n",
    "        if not hasattr(self,'state'):\n",
    "            logger.error(f\"Reset has not been called as {hasattr(self,'state')=}\")\n",
    "            raise Exception\n",
    "\n",
    "        self.state.x += pa.rel_x\n",
    "        self.state.y += pa.rel_y\n",
    "\n",
    "        return copy(self.state)\n",
    "        \n",
    "    def reset(self, ps: Position, vicinity: VicinityPDM) -> Tuple[Step, Position]:\n",
    "        self.state = copy(ps)\n",
    "        return self.policy(vicinity), self.state\n",
    "\n",
    "def test():\n",
    "    for i in range(9):\n",
    "        vpdm = np.zeros(9)\n",
    "        vpdm[i] = 1\n",
    "        vpdm = VicinityPDM(vpdm)\n",
    "        agent = LHC_GW_CONV_Agent()\n",
    "        agent_a, _ = agent.reset(Position(), vpdm)\n",
    "        assert agent_a.idx == i\n",
    "\n",
    "    vpdm = VicinityPDM([0,1,0,0,0,0,0,0,0])\n",
    "    agent = LHC_GW_CONV_Agent()\n",
    "    agent_a, _ = agent.reset(Position(), vpdm)\n",
    "    assert agent_a.rel_x == 0 and agent_a.rel_y == 1\n",
    "\n",
    "    vpdm = VicinityPDM([0,0,0,0,0,1,0,0,0])\n",
    "    agent = LHC_GW_CONV_Agent()\n",
    "    agent_a, _ = agent.reset(Position(), vpdm)\n",
    "    assert agent_a.rel_x == 1 and agent_a.rel_y == 0\n",
    "\n",
    "    vpdm = VicinityPDM([0,0,0,0,0,0,1,0,0])\n",
    "    agent = LHC_GW_CONV_Agent()\n",
    "    agent_a, _ = agent.reset(Position(), vpdm)\n",
    "    assert agent_a.rel_x == -1 and agent_a.rel_y == -1\n",
    "\n",
    "    env = PDMEnv()\n",
    "    env.pdm = np.ones((7,7))\n",
    "    env.pdm[3,6] = 10\n",
    "    env.pdm[6,6] = -10\n",
    "    env.pdm[0,6] = -10\n",
    "    pos = Position(3,3)\n",
    "    vpdm = env._get_vicinity_at_xy(pos.x, pos.y)\n",
    "    agent = LHC_GW_CONV_Agent(penv = env)\n",
    "    agent_a, _ = agent.reset(pos, vpdm)\n",
    "    assert agent_a == Step(5)\n",
    "test()"
   ]
  },
  {
   "cell_type": "code",
   "execution_count": 11,
   "id": "f305f99d",
   "metadata": {
    "execution": {
     "iopub.execute_input": "2021-12-16T10:50:11.744773Z",
     "iopub.status.busy": "2021-12-16T10:50:11.741339Z",
     "iopub.status.idle": "2021-12-16T10:50:11.746440Z",
     "shell.execute_reply": "2021-12-16T10:50:11.746074Z"
    }
   },
   "outputs": [],
   "source": [
    "class LHCSim(Simulation):\n",
    "    agent: LHC_GW_CONV_Agent\n",
    "    agent_a: Step\n",
    "    agent_s: Position\n",
    "\n",
    "    env: PDMEnv\n",
    "    vicinity_pdm: VicinityPDM\n",
    "\n",
    "    def __init__(self, initial_pos=Position(), dt=0.1) -> None:\n",
    "        self.env = PDMEnv(m=16,psim=self)\n",
    "        self.agent = LHC_GW_CONV_Agent(penv=self.env)\n",
    "        self.dt = dt\n",
    "\n",
    "        self.initial_agent_s = initial_pos\n",
    "\n",
    "        self.data_store = {'env_s':[], 'agent_a':[], 'agent_s':[], 'reward':[]}\n",
    "        super().__init__()\n",
    "\n",
    "    def reset(self, env = None) -> None:\n",
    "        if env is not None:\n",
    "            self.vicinity_pdm = env.reset(self.initial_agent_s)\n",
    "            self.agent_a, self.agent_s = self.agent.reset(self.initial_agent_s,self.vicinity_pdm)\n",
    "        self.data_store = {'env_s':[], 'agent_a':[], 'agent_s':[], 'reward':[]}\n",
    "\n",
    "    def steps(self, num_steps: int, num_l: int) -> None:\n",
    "        l = 0\n",
    "        l_store = {}\n",
    "        for _ in range(num_l):\n",
    "            local_env = copy(self.env)\n",
    "            self.agent = LHC_GW_CONV_Agent(penv=local_env)\n",
    "            local_env.pdm = np.clip(local_env.pdm, 0, None)\n",
    "            self.reset(local_env)\n",
    "            for _ in range(num_steps):\n",
    "                vicinity_pdm, reward = local_env.step(self.agent_s)\n",
    "\n",
    "                self.collect_data(vicinity_pdm, self.agent_a, self.agent_s, reward)\n",
    "\n",
    "                agent_a = self.agent.step(vicinity_pdm)\n",
    "                agent_s = self.agent.update(agent_a)\n",
    "\n",
    "                self.agent_s = agent_s\n",
    "                self.agent_a = agent_a\n",
    "                self.vicinity_pdm = vicinity_pdm\n",
    "\n",
    "            logger.debug(f\"Maximum number of steps={num_steps} reached for {l=:.2f}\")\n",
    "\n",
    "            # calculate reward as if GW hadn't been applied\n",
    "            xy = self.data_store['agent_s']\n",
    "            cum_reward = 0\n",
    "            for x,y in zip([f.x for f in xy], [f.y for f in xy]):\n",
    "                cum_reward += self.env.pdm[y,x]\n",
    "            self.data_store['cum_reward'] = cum_reward\n",
    "            l_store[l] = copy(self.data_store)\n",
    "            logger.debug(f\"Cumulative reward for {l=:.2f} is {cum_reward=:.2f}\")\n",
    "\n",
    "            l += (1/num_l)\n",
    "\n",
    "        best_path_key = max(l_store, key=lambda x: l_store[x].get('cum_reward',0))\n",
    "        best_path = l_store[best_path_key]\n",
    "\n",
    "        logger.info(f\"Best path was found with l={best_path_key:.2f}\")\n",
    "        self.data_store['best_path'] = best_path\n",
    "        self.data_store['l_store'] = l_store\n",
    "\n",
    "    def collect_data(self, env_s: VicinityPDM, agent_a: Step, agent_s: Position, reward: float) -> None:\n",
    "        self.data_store['env_s'].append(copy(env_s))\n",
    "        self.data_store['agent_a'].append(copy(agent_a))\n",
    "        self.data_store['agent_s'].append(copy(agent_s))\n",
    "        self.data_store['reward'].append(copy(reward))\n",
    "\n",
    "    def plot(self):\n",
    "        fig, (ax1, ax2) = plt.subplots(2,1, gridspec_kw={'height_ratios': [1, 3]}, figsize=(8, 6), dpi=80)\n",
    "\n",
    "        # Reward over time\n",
    "        t = [t*self.dt for t in range(len(self.data_store['best_path']['env_s']))]\n",
    "        ax1.plot(t,np.cumsum(self.data_store['best_path']['reward']))\n",
    "        ax1.set_ylabel('Cumulative reward')\n",
    "        ax1.set_xlabel('time (s)')\n",
    "\n",
    "        # Show pdm and path\n",
    "        x = [p.x+0.5 for p in self.data_store['best_path']['agent_s']]\n",
    "        y = [p.y+0.5 for p in self.data_store['best_path']['agent_s']]\n",
    "\n",
    "        pdm = self.env.pdm\n",
    "\n",
    "        ax2.imshow(pdm, origin='lower', extent=[0, pdm.shape[0], 0, pdm.shape[1]])\n",
    "        ax2.plot(x,y)\n",
    "        ax2.scatter(x[0],y[0],label='Start')\n",
    "        ax2.scatter(x[-1],y[-1],label='End')\n",
    "        ax2.set_ylabel('y')\n",
    "        ax2.set_xlabel('x')\n",
    "        ax2.legend()\n",
    "\n",
    "        fig.tight_layout()\n",
    "\n",
    "        # Different rewards\n",
    "        fig, ax1 = plt.subplots(1,1, figsize=(8, 6), dpi=80)\n",
    "        l_store = self.data_store['l_store']\n",
    "\n",
    "        y_pos = np.arange(len(l_store))\n",
    "        ax1.bar(y_pos, [l_store[k]['cum_reward'] for k in l_store])\n",
    "        ax1.set_xticks(y_pos[::5], [round(k,2) for k in l_store.keys()][::5])\n",
    "        ax1.set_xlabel('l value')\n",
    "        ax1.set_ylabel('cumulative reward')\n",
    "\n",
    "        fig.tight_layout()"
   ]
  },
  {
   "cell_type": "code",
   "execution_count": 12,
   "id": "5116f11c",
   "metadata": {
    "execution": {
     "iopub.execute_input": "2021-12-16T10:50:11.751842Z",
     "iopub.status.busy": "2021-12-16T10:50:11.751426Z",
     "iopub.status.idle": "2021-12-16T10:50:12.552421Z",
     "shell.execute_reply": "2021-12-16T10:50:12.553016Z"
    },
    "pycharm": {
     "name": "#%%\n"
    }
   },
   "outputs": [
    {
     "name": "stderr",
     "output_type": "stream",
     "text": [
      "2021-12-16 10:50:12.159 | INFO     | __main__:steps:61 - Best path was found with l=0.22\n"
     ]
    },
    {
     "data": {
      "image/png": "[encoded data removed]",
      "text/plain": [
       "<Figure size 640x480 with 2 Axes>"
      ]
     },
     "metadata": {
      "needs_background": "light"
     },
     "output_type": "display_data"
    },
    {
     "data": {
      "image/png": "[encoded data removed]",
      "text/plain": [
       "<Figure size 640x480 with 1 Axes>"
      ]
     },
     "metadata": {
      "needs_background": "light"
     },
     "output_type": "display_data"
    }
   ],
   "source": [
    "sim = LHCSim()\n",
    "\n",
    "sim.steps(100, 40)\n",
    "\n",
    "sim.plot()"
   ]
  }
 ],
 "metadata": {
  "kernelspec": {
   "display_name": "Python 3 (ipykernel)",
   "language": "python",
   "name": "python3"
  },
  "language_info": {
   "codemirror_mode": {
    "name": "ipython",
    "version": 3
   },
   "file_extension": ".py",
   "mimetype": "text/x-python",
   "name": "python",
   "nbconvert_exporter": "python",
   "pygments_lexer": "ipython3",
   "version": "3.8.10"
  }
 },
 "nbformat": 4,
 "nbformat_minor": 5
}
